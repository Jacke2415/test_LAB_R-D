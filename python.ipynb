{
 "cells": [
  {
   "cell_type": "markdown",
   "metadata": {},
   "source": [
    "1. Given an array of numbers representing the stock prices of a company in chronological order,write a function that calculates the maximum profit you could have made from buying and selling that\n",
    "stock once. You must buy before you can sell it. For example, given [9, 11, 8, 5, 7, 10], you should\n",
    "return 5, since you could buy the stock at 5 dollars and sell it at 10 dollars"
   ]
  },
  {
   "cell_type": "code",
   "execution_count": 13,
   "metadata": {},
   "outputs": [
    {
     "data": {
      "text/plain": [
       "5"
      ]
     },
     "execution_count": 13,
     "metadata": {},
     "output_type": "execute_result"
    }
   ],
   "source": [
    "def maxProfit(stockPrices = []):\n",
    "    buy = min(stockPrices)\n",
    "    buyIndex = stockPrices.index(buy)    \n",
    "    profit = []\n",
    "    for i in range(buyIndex + 1, len(stockPrices)):\n",
    "        profit.append(stockPrices[i] - buy)\n",
    "    #print(profit)\n",
    "    maxProfit = max(profit)\n",
    "    return maxProfit\n",
    "\n",
    "\n",
    "maxProfit([9, 11, 8, 5, 7, 10])"
   ]
  },
  {
   "cell_type": "markdown",
   "metadata": {},
   "source": [
    "2. Given a string of round, curly, and square open and closing brackets, return whether the brackets\n",
    "are balanced (well-formed). For example, given the string \"([])[]({})\", you should return true. Given\n",
    "the string \"([)]\" or \"((()\", you should return false."
   ]
  },
  {
   "cell_type": "code",
   "execution_count": 97,
   "metadata": {},
   "outputs": [
    {
     "data": {
      "text/plain": [
       "True"
      ]
     },
     "execution_count": 97,
     "metadata": {},
     "output_type": "execute_result"
    }
   ],
   "source": [
    "def bracketsBalanced(s):\n",
    "    stack = []\n",
    "    mapping = {')': '(', '}': '{', ']': '['}\n",
    "    \n",
    "    for char in s:\n",
    "        if char in '([{':\n",
    "            stack.append(char)\n",
    "        elif char in ')]}':\n",
    "            if not stack or stack[-1] != mapping[char]:\n",
    "                return False\n",
    "            stack.pop()\n",
    "    \n",
    "    return len(stack) == 0\n",
    "\n",
    "bracketsBalanced('([])[{}]({})')"
   ]
  },
  {
   "cell_type": "markdown",
   "metadata": {},
   "source": [
    "3. Given a string, determine whether any permutation of it is a palindrome. For example, carrace\n",
    "should return true, since it can be rearranged to form racecar, which is a palindrome. daily should\n",
    "return false, since there's no rearrangement that can form a palindrome."
   ]
  },
  {
   "cell_type": "code",
   "execution_count": 64,
   "metadata": {},
   "outputs": [
    {
     "data": {
      "text/plain": [
       "False"
      ]
     },
     "execution_count": 64,
     "metadata": {},
     "output_type": "execute_result"
    }
   ],
   "source": [
    "def palindrome(s):\n",
    "    sPermute = s\n",
    "    for i in range(0, len(s)):\n",
    "        sPermute = sPermute[-1] + sPermute[:-1]\n",
    "        sPalindrome = sPermute[::-1]\n",
    "        #print(sPermute, sPalindrome)\n",
    "        if sPermute == sPalindrome:\n",
    "            return True\n",
    "        else:\n",
    "            continue\n",
    "    return False\n",
    "\n",
    "palindrome('daily')\n",
    "    "
   ]
  },
  {
   "cell_type": "markdown",
   "metadata": {},
   "source": [
    "4. Given an array of numbers and a number k, determine if there are two entries in the array which\n",
    "add up to the specified number k. For example, given [10, 15, 20, 25, 30] and k = 40,\n",
    "return true as 30+10=40."
   ]
  },
  {
   "cell_type": "code",
   "execution_count": 69,
   "metadata": {},
   "outputs": [
    {
     "data": {
      "text/plain": [
       "True"
      ]
     },
     "execution_count": 69,
     "metadata": {},
     "output_type": "execute_result"
    }
   ],
   "source": [
    "def add(array, k):\n",
    "    for i in array:\n",
    "        for j in array:\n",
    "            if (i + j) == k:\n",
    "                return True\n",
    "    return False"
   ]
  },
  {
   "cell_type": "markdown",
   "metadata": {},
   "source": [
    "5. Given an array of time intervals (start, end) for classroom lectures (possibly overlapping), find the\n",
    "minimum number of rooms required. For example, given [(30, 75), (0, 50), (60, 150)], you should\n",
    "return 2."
   ]
  },
  {
   "cell_type": "code",
   "execution_count": 80,
   "metadata": {},
   "outputs": [
    {
     "data": {
      "text/plain": [
       "2"
      ]
     },
     "execution_count": 80,
     "metadata": {},
     "output_type": "execute_result"
    }
   ],
   "source": [
    "import heapq\n",
    "\n",
    "def min_meeting_rooms(intervals):\n",
    "    if not intervals:\n",
    "        return 0\n",
    "\n",
    "    intervals.sort(key=lambda x: x[0])  # Sort intervals by start time    \n",
    "    min_heap = [intervals[0][1]]  # Initialize a heap with the end time of the first interval\n",
    "    #print(min_heap)\n",
    "\n",
    "    for i in range(1, len(intervals)):\n",
    "        if intervals[i][0] >= min_heap[0]:\n",
    "            heapq.heappop(min_heap)  # Remove the earliest ending interval from the heap\n",
    "        heapq.heappush(min_heap, intervals[i][1])  # Add the current interval's end time to the heap\n",
    "    \n",
    "    return len(min_heap)\n",
    "\n",
    "min_meeting_rooms([(30, 75), (0, 50), (60, 150)])\n"
   ]
  },
  {
   "cell_type": "markdown",
   "metadata": {},
   "source": [
    "6. Given a multiset of integers, return whether it can be partitioned into two subsets whose sums\n",
    "are the same. For example, given the multiset {15, 5, 20, 10, 35, 15, 10}, it would return true, since we can split\n",
    "it up into {15, 5, 10, 15, 10} and {20, 35}, which both add up to 55. Given the multiset {15, 5, 20, 10, 35}, it would return false, since we can't split it up into two subsets that add up to the same sum."
   ]
  },
  {
   "cell_type": "code",
   "execution_count": 116,
   "metadata": {},
   "outputs": [
    {
     "data": {
      "text/plain": [
       "False"
      ]
     },
     "execution_count": 116,
     "metadata": {},
     "output_type": "execute_result"
    }
   ],
   "source": [
    "def multisetPartitioned(nums):\n",
    "    total_sum = sum(nums)\n",
    "    if total_sum % 2 != 0:        \n",
    "        return False\n",
    "    \n",
    "    target_sum = total_sum // 2\n",
    "    dp = [False] * (target_sum + 1)\n",
    "    dp[0] = True\n",
    "    \n",
    "    for num in nums:\n",
    "        for i in range(target_sum, num - 1, -1):\n",
    "            dp[i] = dp[i] or dp[i - num]\n",
    "    \n",
    "    return dp[target_sum]\n",
    "\n",
    "multisetPartitioned([15, 5, 20, 10, 35])\n",
    "\n"
   ]
  }
 ],
 "metadata": {
  "kernelspec": {
   "display_name": "base",
   "language": "python",
   "name": "python3"
  },
  "language_info": {
   "codemirror_mode": {
    "name": "ipython",
    "version": 3
   },
   "file_extension": ".py",
   "mimetype": "text/x-python",
   "name": "python",
   "nbconvert_exporter": "python",
   "pygments_lexer": "ipython3",
   "version": "3.11.3"
  },
  "orig_nbformat": 4
 },
 "nbformat": 4,
 "nbformat_minor": 2
}
